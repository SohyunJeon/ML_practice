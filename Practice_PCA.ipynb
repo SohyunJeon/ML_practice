{
 "cells": [
  {
   "cell_type": "code",
   "execution_count": 1,
   "metadata": {
    "collapsed": true
   },
   "outputs": [],
   "source": [
    "from sklearn.datasets import load_iris"
   ]
  },
  {
   "cell_type": "code",
   "execution_count": 2,
   "metadata": {
    "collapsed": true
   },
   "outputs": [],
   "source": [
    "iris = load_iris()\n",
    "data = iris.data #Loading iris datasets"
   ]
  },
  {
   "cell_type": "code",
   "execution_count": 3,
   "metadata": {
    "collapsed": true
   },
   "outputs": [],
   "source": [
    "from sklearn.decomposition import PCA\n",
    "from sklearn.model_selection import train_test_split"
   ]
  },
  {
   "cell_type": "code",
   "execution_count": 4,
   "metadata": {
    "collapsed": true
   },
   "outputs": [],
   "source": [
    "train_data, test_data = train_test_split(data)\n",
    "# split as train and test data"
   ]
  },
  {
   "cell_type": "code",
   "execution_count": 5,
   "metadata": {
    "collapsed": true
   },
   "outputs": [],
   "source": [
    "pca = PCA() #setting as default"
   ]
  },
  {
   "cell_type": "code",
   "execution_count": 6,
   "metadata": {
    "collapsed": true
   },
   "outputs": [],
   "source": [
    "#hyperparameter in () means n_compositions"
   ]
  },
  {
   "cell_type": "code",
   "execution_count": 7,
   "metadata": {},
   "outputs": [
    {
     "data": {
      "text/plain": [
       "PCA(copy=True, iterated_power='auto', n_components=None, random_state=None,\n",
       "  svd_solver='auto', tol=0.0, whiten=False)"
      ]
     },
     "execution_count": 7,
     "metadata": {},
     "output_type": "execute_result"
    }
   ],
   "source": [
    "pca.fit(train_data)"
   ]
  },
  {
   "cell_type": "code",
   "execution_count": 8,
   "metadata": {},
   "outputs": [
    {
     "data": {
      "text/plain": [
       "array([ 4.14107852,  0.22714891,  0.07997099,  0.02425374])"
      ]
     },
     "execution_count": 8,
     "metadata": {},
     "output_type": "execute_result"
    }
   ],
   "source": [
    "pca.explained_variance_\n",
    "# the amont of variance explained by each of the selected components"
   ]
  },
  {
   "cell_type": "code",
   "execution_count": 9,
   "metadata": {},
   "outputs": [
    {
     "data": {
      "text/plain": [
       "array([[ 0.36093661, -0.0780126 ,  0.85559519,  0.36276116],\n",
       "       [-0.69895212, -0.68199075,  0.20565491,  0.06372288],\n",
       "       [-0.53511343,  0.61340677,  0.03586752,  0.5797407 ],\n",
       "       [ 0.30796804, -0.39055702, -0.47368391,  0.72680427]])"
      ]
     },
     "execution_count": 9,
     "metadata": {},
     "output_type": "execute_result"
    }
   ],
   "source": [
    "pca.components_\n",
    "# each row means 'principal components' \n",
    "# anc each component means feactures.\n",
    "# you can see maximum variance"
   ]
  },
  {
   "cell_type": "code",
   "execution_count": 10,
   "metadata": {},
   "outputs": [
    {
     "data": {
      "text/html": [
       "<div>\n",
       "<style>\n",
       "    .dataframe thead tr:only-child th {\n",
       "        text-align: right;\n",
       "    }\n",
       "\n",
       "    .dataframe thead th {\n",
       "        text-align: left;\n",
       "    }\n",
       "\n",
       "    .dataframe tbody tr th {\n",
       "        vertical-align: top;\n",
       "    }\n",
       "</style>\n",
       "<table border=\"1\" class=\"dataframe\">\n",
       "  <thead>\n",
       "    <tr style=\"text-align: right;\">\n",
       "      <th></th>\n",
       "      <th>sepal length (cm)</th>\n",
       "      <th>sepal width (cm)</th>\n",
       "      <th>petal length (cm)</th>\n",
       "      <th>petal width (cm)</th>\n",
       "    </tr>\n",
       "  </thead>\n",
       "  <tbody>\n",
       "    <tr>\n",
       "      <th>0</th>\n",
       "      <td>5.1</td>\n",
       "      <td>3.5</td>\n",
       "      <td>1.4</td>\n",
       "      <td>0.2</td>\n",
       "    </tr>\n",
       "    <tr>\n",
       "      <th>1</th>\n",
       "      <td>4.9</td>\n",
       "      <td>3.0</td>\n",
       "      <td>1.4</td>\n",
       "      <td>0.2</td>\n",
       "    </tr>\n",
       "    <tr>\n",
       "      <th>2</th>\n",
       "      <td>4.7</td>\n",
       "      <td>3.2</td>\n",
       "      <td>1.3</td>\n",
       "      <td>0.2</td>\n",
       "    </tr>\n",
       "    <tr>\n",
       "      <th>3</th>\n",
       "      <td>4.6</td>\n",
       "      <td>3.1</td>\n",
       "      <td>1.5</td>\n",
       "      <td>0.2</td>\n",
       "    </tr>\n",
       "    <tr>\n",
       "      <th>4</th>\n",
       "      <td>5.0</td>\n",
       "      <td>3.6</td>\n",
       "      <td>1.4</td>\n",
       "      <td>0.2</td>\n",
       "    </tr>\n",
       "  </tbody>\n",
       "</table>\n",
       "</div>"
      ],
      "text/plain": [
       "   sepal length (cm)  sepal width (cm)  petal length (cm)  petal width (cm)\n",
       "0                5.1               3.5                1.4               0.2\n",
       "1                4.9               3.0                1.4               0.2\n",
       "2                4.7               3.2                1.3               0.2\n",
       "3                4.6               3.1                1.5               0.2\n",
       "4                5.0               3.6                1.4               0.2"
      ]
     },
     "execution_count": 10,
     "metadata": {},
     "output_type": "execute_result"
    }
   ],
   "source": [
    "import pandas as pd\n",
    "pd.DataFrame(data, columns = iris.feature_names).head()\n",
    "# check the iris dataset"
   ]
  },
  {
   "cell_type": "code",
   "execution_count": 11,
   "metadata": {},
   "outputs": [
    {
     "data": {
      "text/plain": [
       "array([[-3.03408929,  0.46138387,  0.05872928,  0.02292995],\n",
       "       [-2.43041806, -1.34816538,  0.34497294, -0.07286735],\n",
       "       [-2.24876758, -0.90421224, -0.07387168, -0.00595035],\n",
       "       [ 2.56264597, -0.56354552, -0.22074452, -0.25629847],\n",
       "       [ 0.58922073, -0.04147096, -0.22049825, -0.0052389 ],\n",
       "       [ 1.6125069 , -0.24662388,  0.23750225,  0.09980028],\n",
       "       [-2.40756257,  0.03239967,  0.11156713, -0.29431599],\n",
       "       [-2.35377102, -0.13110101,  0.05644113,  0.14990819],\n",
       "       [ 3.18328435, -1.36699991, -0.09698471, -0.31916776],\n",
       "       [ 1.27765767, -0.28344342, -0.52699916,  0.0544361 ],\n",
       "       [-2.32857371, -0.75635339,  0.20597709, -0.06471603],\n",
       "       [-2.75537159, -0.14201914, -0.07472999,  0.04317528],\n",
       "       [ 1.24311109,  0.732416  , -0.4018049 ,  0.02033953],\n",
       "       [-2.9071107 ,  0.87525447, -0.36619273,  0.39979709],\n",
       "       [ 1.14774995,  0.61409835,  0.46656813,  0.07358863],\n",
       "       [ 1.36258145,  0.57726569,  0.2474042 ,  0.00682073],\n",
       "       [ 2.37906701, -0.38369491,  0.2188996 ,  0.15681843],\n",
       "       [-2.51950157, -0.15634265,  0.10973233,  0.05474365],\n",
       "       [ 1.71366894, -0.08966024,  0.11840765,  0.13054329],\n",
       "       [-2.25793439, -0.43733769,  0.31234394, -0.21278753],\n",
       "       [ 3.3448086 , -0.5642184 , -0.36202853, -0.12116891],\n",
       "       [ 0.88167554, -0.33198305, -0.02037726, -0.01018832],\n",
       "       [-0.96143049,  0.72007671, -0.0398121 ,  0.28264729],\n",
       "       [-2.91868936, -0.11495105, -0.14324417,  0.17696776],\n",
       "       [-2.89194497,  0.20576078,  0.0779747 , -0.04095624],\n",
       "       [ 0.75797449, -0.18242807,  0.37432353, -0.13880651],\n",
       "       [ 2.26566744,  0.22219309, -0.38974605, -0.04215579],\n",
       "       [ 2.10796811,  0.21163967,  0.17953279,  0.13374518],\n",
       "       [-2.67761333, -0.18965272, -0.00980257, -0.04324882],\n",
       "       [ 0.88750082,  0.48979812, -0.52676134,  0.31877509],\n",
       "       [-2.36211964, -0.42810259, -0.21667443, -0.01479838],\n",
       "       [ 1.33565461,  0.18028636, -0.08530009,  0.1828611 ],\n",
       "       [ 0.17529519,  0.37463835, -0.25920923,  0.05816574],\n",
       "       [-0.01092651,  0.55569007, -0.27508805,  0.01031579],\n",
       "       [ 0.75768147,  0.31839377, -0.6384669 ,  0.21252373],\n",
       "       [ 0.30424977,  0.03492685, -0.23908784,  0.14512517],\n",
       "       [ 2.07169199,  0.20526738,  0.12155872,  0.06106475],\n",
       "       [-2.61322726, -0.39764222, -0.05548457, -0.02071091]])"
      ]
     },
     "execution_count": 11,
     "metadata": {},
     "output_type": "execute_result"
    }
   ],
   "source": [
    "pca.transform(test_data)\n",
    "# new datasets' PCA Score\n",
    "# transform doesnt' change pie, just project to new plain."
   ]
  },
  {
   "cell_type": "code",
   "execution_count": 12,
   "metadata": {},
   "outputs": [
    {
     "data": {
      "text/plain": [
       "array([[ -2.82891913e+00,  -5.14909235e-01,   1.40160166e-01,\n",
       "          1.02136484e-01],\n",
       "       [ -2.24408563e+00,   1.31012451e+00,   1.41473596e-01,\n",
       "         -1.37070292e-01],\n",
       "       [ -2.05051879e+00,   8.05829673e-01,  -1.98423721e-01,\n",
       "         -8.52204062e-02],\n",
       "       [  2.76630430e+00,   5.42719252e-01,  -1.70292924e-01,\n",
       "          1.94416563e-01],\n",
       "       [  7.96021563e-01,  -2.84615469e-02,  -1.43385412e-01,\n",
       "          4.94531077e-02],\n",
       "       [  1.80715865e+00,   2.29859873e-01,   2.84218805e-01,\n",
       "         -1.45550659e-01],\n",
       "       [ -2.20537051e+00,  -2.70888452e-02,   1.59612331e-01,\n",
       "          3.32006001e-01],\n",
       "       [ -2.15350825e+00,   4.44649533e-02,   4.27451814e-02,\n",
       "         -1.24647510e-01],\n",
       "       [  3.37864469e+00,   1.35950521e+00,  -1.64321231e-01,\n",
       "          1.05735756e-01],\n",
       "       [  1.48894792e+00,   1.56994256e-01,  -4.75905149e-01,\n",
       "         -2.04742514e-02],\n",
       "       [ -2.13507382e+00,   7.13463985e-01,   1.04300618e-01,\n",
       "         -3.34806548e-02],\n",
       "       [ -2.55175933e+00,   5.09762790e-02,  -8.70843605e-02,\n",
       "         -4.23998657e-03],\n",
       "       [  1.45906809e+00,  -8.06423466e-01,  -1.82466294e-01,\n",
       "          1.66146025e-01],\n",
       "       [ -2.69145134e+00,  -1.04700621e+00,  -2.37370098e-01,\n",
       "         -1.53688295e-01],\n",
       "       [  1.34378976e+00,  -5.72700084e-01,   6.44836649e-01,\n",
       "         -1.49279577e-04],\n",
       "       [  1.56335581e+00,  -5.55474835e-01,   4.33171742e-01,\n",
       "          8.16554070e-02],\n",
       "       [  2.57268974e+00,   3.57325921e-01,   2.53710778e-01,\n",
       "         -2.27914557e-01],\n",
       "       [ -2.32011381e+00,   9.24652121e-02,   9.54977786e-02,\n",
       "         -4.00559904e-02],\n",
       "       [  1.91186281e+00,   5.49470507e-02,   1.92676728e-01,\n",
       "         -1.37639236e-01],\n",
       "       [ -2.06384520e+00,   4.46308228e-01,   2.75287512e-01,\n",
       "          1.51769901e-01],\n",
       "       [  3.55072700e+00,   5.05432916e-01,  -3.04880887e-01,\n",
       "          7.12222061e-02],\n",
       "       [  1.08200369e+00,   2.87418896e-01,   1.13092331e-02,\n",
       "         -1.76537843e-02],\n",
       "       [ -7.53979946e-01,  -8.08329427e-01,   1.05816962e-01,\n",
       "         -1.15469872e-01],\n",
       "       [ -2.71393866e+00,  -1.10790367e-02,  -1.64200046e-01,\n",
       "         -1.22138981e-01],\n",
       "       [ -2.68876995e+00,  -2.50678164e-01,   1.24810531e-01,\n",
       "          1.19587478e-01],\n",
       "       [  9.51388760e-01,   2.22609837e-01,   4.32057255e-01,\n",
       "          9.05618703e-02],\n",
       "       [  2.47772924e+00,  -2.87691030e-01,  -2.29729843e-01,\n",
       "          1.34329560e-01],\n",
       "       [  2.30685675e+00,  -2.25833031e-01,   3.10198395e-01,\n",
       "         -1.01156491e-01],\n",
       "       [ -2.47539256e+00,   1.23192033e-01,  -2.25065338e-02,\n",
       "          6.49171252e-02],\n",
       "       [  1.10323347e+00,  -6.45982150e-01,  -3.77123017e-01,\n",
       "         -1.49684733e-01],\n",
       "       [ -2.15731100e+00,   3.22149408e-01,  -2.61365676e-01,\n",
       "          1.81581952e-02],\n",
       "       [  1.54006812e+00,  -2.50772954e-01,   2.54442234e-02,\n",
       "         -1.19274226e-01],\n",
       "       [  3.85731748e-01,  -4.54103868e-01,  -1.25917260e-01,\n",
       "          6.30819657e-02],\n",
       "       [  2.01403678e-01,  -6.25675556e-01,  -1.11260884e-01,\n",
       "          1.42903700e-01],\n",
       "       [  9.75123030e-01,  -4.78059574e-01,  -5.09071076e-01,\n",
       "         -6.03570611e-02],\n",
       "       [  5.11415557e-01,  -1.35175987e-01,  -1.67055242e-01,\n",
       "         -8.11270949e-02],\n",
       "       [  2.27212366e+00,  -2.15549840e-01,   2.57465168e-01,\n",
       "         -2.42989919e-02],\n",
       "       [ -2.41161015e+00,   3.15207350e-01,  -1.02433995e-01,\n",
       "          1.32110076e-02]])"
      ]
     },
     "execution_count": 12,
     "metadata": {},
     "output_type": "execute_result"
    }
   ],
   "source": [
    "pca.fit_transform(test_data) # performing fit and transform at onece"
   ]
  },
  {
   "cell_type": "code",
   "execution_count": null,
   "metadata": {
    "collapsed": true
   },
   "outputs": [],
   "source": []
  }
 ],
 "metadata": {
  "kernelspec": {
   "display_name": "Python 3",
   "language": "python",
   "name": "python3"
  },
  "language_info": {
   "codemirror_mode": {
    "name": "ipython",
    "version": 3
   },
   "file_extension": ".py",
   "mimetype": "text/x-python",
   "name": "python",
   "nbconvert_exporter": "python",
   "pygments_lexer": "ipython3",
   "version": "3.6.2rc1"
  }
 },
 "nbformat": 4,
 "nbformat_minor": 2
}
